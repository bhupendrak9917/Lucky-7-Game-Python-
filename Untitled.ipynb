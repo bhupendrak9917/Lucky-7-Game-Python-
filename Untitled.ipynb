{
 "cells": [
  {
   "cell_type": "code",
   "execution_count": 3,
   "metadata": {},
   "outputs": [
    {
     "name": "stdout",
     "output_type": "stream",
     "text": [
      "Welcome to Number Guessing Game\n",
      "enter bet amount  500\n",
      "\n",
      "\n",
      "Guess the number b/w 1 to 7  1\n",
      "WRONG ANSWER\n",
      "You lose 500\n",
      "Correct number is: 2\n",
      "enter Y to continue or N to quit  y\n",
      "Guess the number b/w 1 to 7  2\n",
      "WRONG ANSWER\n",
      "You lose 1000\n",
      "Correct number is: 4\n",
      "enter Y to continue or N to quit  y\n",
      "Guess the number b/w 1 to 7  3\n",
      "WRONG ANSWER\n",
      "You lose 1500\n",
      "Correct number is: 4\n",
      "enter Y to continue or N to quit  y\n",
      "Guess the number b/w 1 to 7  4\n",
      "WRONG ANSWER\n",
      "You lose 2000\n",
      "Correct number is: 3\n",
      "enter Y to continue or N to quit  y\n",
      "Guess the number b/w 1 to 7  3\n",
      "WRONG ANSWER\n",
      "You lose 2500\n",
      "Correct number is: 5\n",
      "enter Y to continue or N to quit  n\n",
      "Finally You lost 2500\n"
     ]
    }
   ],
   "source": [
    "#importing random \n",
    "import random\n",
    "\n",
    "def ask_user_to_quit():\n",
    "    decision = input(\"enter Y to continue or N to quit  \")\n",
    "    if decision.upper()=='N':\n",
    "        return True\n",
    "    else:\n",
    "        return False\n",
    "        \n",
    "        \n",
    "\n",
    "number = random.randint(1,7)\n",
    "\n",
    "print(\"Welcome to Number Guessing Game\")\n",
    "bet_amount = int(input(\"enter bet amount  \"))\n",
    "gain_amount = 0\n",
    "lose_amount = 0\n",
    "print(\"\\n\")\n",
    "\n",
    "while True:\n",
    "    guessed_num = int(input(\"Guess the number b/w 1 to 7  \"))\n",
    "    if number == guessed_num:\n",
    "        gain_amount += bet_amount\n",
    "        print(\"HURRAYYY!!!!!!!!!\")\n",
    "        print(\"correct answer \")\n",
    "        print(\"You gain \",gain_amount)\n",
    "        number = random.randint(1,7)\n",
    "        flag = ask_user_to_quit()\n",
    "        if flag:\n",
    "            break\n",
    "    else:\n",
    "        lose_amount += bet_amount\n",
    "        print(\"WRONG ANSWER\")\n",
    "        print(f\"You lose {lose_amount}\")\n",
    "        print(\"Correct number is:\",number)\n",
    "        number= random.randint(1,7)\n",
    "        flag = ask_user_to_quit()\n",
    "        if flag:\n",
    "            break\n",
    "            \n",
    "\n",
    "if(lose_amount>=gain_amount):\n",
    "    print(f\"Finally You lost {lose_amount-gain_amount}\")\n",
    "else:\n",
    "    print(f\"You gain {gain_amount}\")"
   ]
  },
  {
   "cell_type": "code",
   "execution_count": null,
   "metadata": {},
   "outputs": [],
   "source": []
  }
 ],
 "metadata": {
  "kernelspec": {
   "display_name": "Python 3",
   "language": "python",
   "name": "python3"
  },
  "language_info": {
   "codemirror_mode": {
    "name": "ipython",
    "version": 3
   },
   "file_extension": ".py",
   "mimetype": "text/x-python",
   "name": "python",
   "nbconvert_exporter": "python",
   "pygments_lexer": "ipython3",
   "version": "3.8.3"
  }
 },
 "nbformat": 4,
 "nbformat_minor": 4
}
